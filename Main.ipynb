{
 "cells": [
  {
   "cell_type": "code",
   "execution_count": 4,
   "id": "6036738a",
   "metadata": {
    "ExecuteTime": {
     "end_time": "2023-08-01T06:02:45.716695Z",
     "start_time": "2023-08-01T06:02:45.597213Z"
    }
   },
   "outputs": [],
   "source": [
    "from DATALOADER import *\n",
    "from DRIFT_MODEL import *\n",
    "from STATS_TEST import *\n",
    "from LOSS_ANALYSIS import *\n",
    "import matplotlib\n",
    "import numpy as np\n",
    "import pandas as pd\n",
    "import matplotlib.pyplot as plt\n",
    "import seaborn as sns"
   ]
  },
  {
   "cell_type": "code",
   "execution_count": 5,
   "id": "0091b79c",
   "metadata": {
    "ExecuteTime": {
     "end_time": "2023-08-01T06:02:55.698864Z",
     "start_time": "2023-08-01T06:02:55.496477Z"
    }
   },
   "outputs": [],
   "source": [
    "matplotlib.use('agg')\n",
    "# 0. Environment Setting\n",
    "train_folder_path = 'Drift Detection/Input/train'\n",
    "pred_folder_path = 'Drift Detection/Input/prediction'\n",
    "output_path = 'Drift Detection/Output'\n",
    "model_path = 'Drift Detection/Model/model_1_0720.hdf5'\n",
    "\n",
    "# 1. Data Preprocessing\n",
    "reference, current = read_files(train_folder_path, pred_folder_path, output_path=output_path)\n",
    "print('Files Read.')\n",
    "data_dict = clean_data(reference, current, output_path, val_size=0.2)\n",
    "feature_names = data_dict['val'].columns\n",
    "print('Data Cleaned.')\n",
    "\n",
    "# # 2. Model Initialization\n",
    "detector, scaled_data = init_detector(data_dict, default_weight=True, model_path=model_path, \n",
    "                         hyper_params={'n_epochs':20, 'batch_size':128})\n",
    "print('Model Ready.')\n",
    "\n",
    "# 3. Model Inference\n",
    "pred_base = detector.predict(scaled_data['train'])\n",
    "pred = detector.predict(scaled_data['test'])\n",
    "print('Data Reconstructed.')\n",
    "\n",
    "\n",
    "# 4. Loss Analysis\n",
    "loss_result_base = cal_loss(scaled_data['train'], pred_base, feature_names=feature_names, cal_type='Base', output_path=output_path)\n",
    "loss_result = cal_loss(scaled_data['test'], pred, feature_names=feature_names, threshold=loss_result_base['threshold'], \n",
    "                       cal_type='Predict', output_path=output_path)\n",
    "ae_df = pp_change(loss_result_base['loss_percentage'], loss_result['loss_percentage'], feature_names)\n",
    "print('Outlier Loss Decomposed.')\n",
    "\n",
    "# 5. Evidently AI \n",
    "drift_score = stats_test(data_dict['ref'], data_dict['cur'], output_path)\n",
    "print('Stats Tests Completed.')\n",
    "\n",
    "# 6. Combine Result from AE model and Stats tests\n",
    "result_df = pd.merge(ae_df, drift_score, on ='feature', how='left')\n",
    "# Plot: Juxtaposed Barplot\n",
    "plot_df = result_df.melt(id_vars='feature', var_name='Score Type', value_name='Score')\n",
    "plt.figure(figsize=(10,6))\n",
    "sns.barplot(x='feature', y='Score', hue='Score Type', data=plot_df)\n",
    "plt.xticks(rotation = 90)\n",
    "plt.savefig(f'{output_path}/figures/Drift_Score.png')"
   ]
  }
 ],
 "metadata": {
  "kernelspec": {
   "display_name": "Python 3 (ipykernel)",
   "language": "python",
   "name": "python3"
  },
  "language_info": {
   "codemirror_mode": {
    "name": "ipython",
    "version": 3
   },
   "file_extension": ".py",
   "mimetype": "text/x-python",
   "name": "python",
   "nbconvert_exporter": "python",
   "pygments_lexer": "ipython3",
   "version": "3.10.9"
  }
 },
 "nbformat": 4,
 "nbformat_minor": 5
}
